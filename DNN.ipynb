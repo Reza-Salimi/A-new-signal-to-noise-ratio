{
 "cells": [
  {
   "cell_type": "code",
   "execution_count": 11,
   "metadata": {},
   "outputs": [],
   "source": [
    "import tensorflow as tf\n",
    "import pandas as pd\n",
    "import matplotlib.pyplot as plt\n",
    "from sklearn.model_selection import train_test_split\n",
    "from sklearn.metrics import confusion_matrix,classification_report\n",
    "import scikitplot as skplt\n",
    "%matplotlib inline"
   ]
  },
  {
   "cell_type": "code",
   "execution_count": 12,
   "metadata": {},
   "outputs": [],
   "source": [
    "def process_data():\n",
    "    columns_to_named = ['Adj']\n",
    "    ind = pd.read_excel(r\"C:\\Users\\123\\Downloads\\mysql\\SPY.csv\",parse_dates=True)\n",
    "    ind_norm = (ind['Adj']-ind['Adj'].mean())/ind['Adj'].std(ddof=0)\n",
    "    x_data = ind_norm.to_frame()\n",
    "    y = ind['Adj Close']\n",
    "    kind=[]\n",
    "    b=y.median()\n",
    "    for i in y:\n",
    "\n",
    "        if i>=b:\n",
    "            kind.append(1)\n",
    "        if i<b:\n",
    "            kind.append(0)\n",
    "\n",
    "    y = pd.DataFrame({'P':kind})\n",
    "    y_data = y['P']\n",
    "    x_train, x_test, y_train, y_test = train_test_split(x_data, y_data, test_size = 0.3, random_state = 101)\n",
    "    return x_train, x_test, y_train, y_test"
   ]
  },
  {
   "cell_type": "markdown",
   "metadata": {},
   "source": [
    "# Define Feature Map"
   ]
  },
  {
   "cell_type": "code",
   "execution_count": 13,
   "metadata": {},
   "outputs": [],
   "source": [
    "def create_feature_column():\n",
    "    feat_Adj = tf.feature_column.numeric_column('Adj')\n",
    "    feature_column = [feat_Adj]\n",
    "    return feature_column"
   ]
  },
  {
   "cell_type": "code",
   "execution_count": 14,
   "metadata": {},
   "outputs": [],
   "source": [
    "x_train, x_test, y_train, y_test = process_data()\n",
    "feature_column = create_feature_column()\n"
   ]
  },
  {
   "cell_type": "code",
   "execution_count": 15,
   "metadata": {},
   "outputs": [],
   "source": [
    "input_func = tf.compat.v1.estimator.inputs.pandas_input_fn(x_train, y_train, batch_size=50, num_epochs= 1000, shuffle=True)\n",
    "#.numpy_input_fn(x_train, y_train, batch_size=50, num_epochs= 1000, shuffle=True)"
   ]
  },
  {
   "cell_type": "code",
   "execution_count": 16,
   "metadata": {},
   "outputs": [],
   "source": [
    "eval_func = tf.compat.v1.estimator.inputs.pandas_input_fn(x_test, y_test, batch_size=50, num_epochs= 1, shuffle=False)\n",
    "#.numpy_input_fn(x_test, y_test, batch_size=50, num_epochs= 1, shuffle=False)\n"
   ]
  },
  {
   "cell_type": "code",
   "execution_count": 17,
   "metadata": {},
   "outputs": [],
   "source": [
    "predict_input_func = tf.compat.v1.estimator.inputs.pandas_input_fn(x=x_test, num_epochs=1, shuffle=False)\n",
    "#.inputs.numpy_input_fn(x=x_test, num_epochs=1, shuffle=False)"
   ]
  },
  {
   "cell_type": "markdown",
   "metadata": {},
   "source": [
    "# Create a Model"
   ]
  },
  {
   "cell_type": "code",
   "execution_count": 18,
   "metadata": {},
   "outputs": [
    {
     "name": "stdout",
     "output_type": "stream",
     "text": [
      "INFO:tensorflow:Using default config.\n",
      "WARNING:tensorflow:Using temporary folder as model directory: C:\\Users\\123\\AppData\\Local\\Temp\\tmpy2k_0bi5\n",
      "INFO:tensorflow:Using config: {'_model_dir': 'C:\\\\Users\\\\123\\\\AppData\\\\Local\\\\Temp\\\\tmpy2k_0bi5', '_tf_random_seed': None, '_save_summary_steps': 100, '_save_checkpoints_steps': None, '_save_checkpoints_secs': 600, '_session_config': allow_soft_placement: true\n",
      "graph_options {\n",
      "  rewrite_options {\n",
      "    meta_optimizer_iterations: ONE\n",
      "  }\n",
      "}\n",
      ", '_keep_checkpoint_max': 5, '_keep_checkpoint_every_n_hours': 10000, '_log_step_count_steps': 100, '_train_distribute': None, '_device_fn': None, '_protocol': None, '_eval_distribute': None, '_experimental_distribute': None, '_experimental_max_worker_delay_secs': None, '_session_creation_timeout_secs': 7200, '_checkpoint_save_graph_def': True, '_service': None, '_cluster_spec': ClusterSpec({}), '_task_type': 'worker', '_task_id': 0, '_global_id_in_cluster': 0, '_master': '', '_evaluation_master': '', '_is_chief': True, '_num_ps_replicas': 0, '_num_worker_replicas': 1}\n"
     ]
    }
   ],
   "source": [
    "dnnmodel = tf.estimator.DNNClassifier(hidden_units=[20,20],\n",
    "                                      feature_columns=feature_column,\n",
    "                                      n_classes=2,\n",
    "                                      activation_fn=tf.nn.softmax,\n",
    "                                      dropout= None,\n",
    "                                      optimizer=tf.optimizers.Adam(learning_rate=0.01)\n",
    "                                     )"
   ]
  },
  {
   "cell_type": "markdown",
   "metadata": {},
   "source": [
    "# Train, Test, Evaluate"
   ]
  },
  {
   "cell_type": "code",
   "execution_count": 19,
   "metadata": {},
   "outputs": [
    {
     "name": "stdout",
     "output_type": "stream",
     "text": [
      "INFO:tensorflow:Calling model_fn.\n",
      "INFO:tensorflow:Done calling model_fn.\n",
      "INFO:tensorflow:Create CheckpointSaverHook.\n",
      "INFO:tensorflow:Graph was finalized.\n",
      "INFO:tensorflow:Running local_init_op.\n",
      "INFO:tensorflow:Done running local_init_op.\n",
      "INFO:tensorflow:Calling checkpoint listeners before saving checkpoint 0...\n",
      "INFO:tensorflow:Saving checkpoints for 0 into C:\\Users\\123\\AppData\\Local\\Temp\\tmpy2k_0bi5\\model.ckpt.\n",
      "INFO:tensorflow:Calling checkpoint listeners after saving checkpoint 0...\n",
      "INFO:tensorflow:loss = 0.69423395, step = 0\n",
      "INFO:tensorflow:global_step/sec: 536.028\n",
      "INFO:tensorflow:loss = 0.531413, step = 100 (0.188 sec)\n",
      "INFO:tensorflow:global_step/sec: 759.985\n",
      "INFO:tensorflow:loss = 0.5456314, step = 200 (0.132 sec)\n",
      "INFO:tensorflow:global_step/sec: 752.888\n",
      "INFO:tensorflow:loss = 0.46685147, step = 300 (0.134 sec)\n",
      "INFO:tensorflow:global_step/sec: 716.185\n",
      "INFO:tensorflow:loss = 0.4462181, step = 400 (0.144 sec)\n",
      "INFO:tensorflow:Calling checkpoint listeners before saving checkpoint 500...\n",
      "INFO:tensorflow:Saving checkpoints for 500 into C:\\Users\\123\\AppData\\Local\\Temp\\tmpy2k_0bi5\\model.ckpt.\n",
      "INFO:tensorflow:Calling checkpoint listeners after saving checkpoint 500...\n",
      "INFO:tensorflow:Loss for final step: 0.5325431.\n"
     ]
    }
   ],
   "source": [
    "history = dnnmodel.train(input_fn=input_func,steps=500\n",
    "                       )"
   ]
  },
  {
   "cell_type": "code",
   "execution_count": 20,
   "metadata": {},
   "outputs": [
    {
     "name": "stdout",
     "output_type": "stream",
     "text": [
      "INFO:tensorflow:Calling model_fn.\n",
      "INFO:tensorflow:Done calling model_fn.\n",
      "INFO:tensorflow:Starting evaluation at 2021-04-19T09:58:06Z\n",
      "INFO:tensorflow:Graph was finalized.\n",
      "INFO:tensorflow:Restoring parameters from C:\\Users\\123\\AppData\\Local\\Temp\\tmpy2k_0bi5\\model.ckpt-500\n",
      "INFO:tensorflow:Running local_init_op.\n",
      "INFO:tensorflow:Done running local_init_op.\n",
      "INFO:tensorflow:Inference Time : 0.47322s\n",
      "INFO:tensorflow:Finished evaluation at 2021-04-19-09:58:07\n",
      "INFO:tensorflow:Saving dict for global step 500: accuracy = 0.73717946, accuracy_baseline = 0.52350426, auc = 0.8376224, auc_precision_recall = 0.839038, average_loss = 0.48366868, global_step = 500, label/mean = 0.4764957, loss = 0.48648733, precision = 0.710084, prediction/mean = 0.5067572, recall = 0.75784755\n",
      "INFO:tensorflow:Saving 'checkpoint_path' summary for global step 500: C:\\Users\\123\\AppData\\Local\\Temp\\tmpy2k_0bi5\\model.ckpt-500\n"
     ]
    },
    {
     "data": {
      "text/plain": [
       "{'accuracy': 0.73717946,\n",
       " 'accuracy_baseline': 0.52350426,\n",
       " 'auc': 0.8376224,\n",
       " 'auc_precision_recall': 0.839038,\n",
       " 'average_loss': 0.48366868,\n",
       " 'label/mean': 0.4764957,\n",
       " 'loss': 0.48648733,\n",
       " 'precision': 0.710084,\n",
       " 'prediction/mean': 0.5067572,\n",
       " 'recall': 0.75784755,\n",
       " 'global_step': 500}"
      ]
     },
     "execution_count": 20,
     "metadata": {},
     "output_type": "execute_result"
    }
   ],
   "source": [
    "dnnmodel.evaluate(eval_func)"
   ]
  },
  {
   "cell_type": "code",
   "execution_count": null,
   "metadata": {},
   "outputs": [],
   "source": []
  }
 ],
 "metadata": {
  "kernelspec": {
   "display_name": "Python 3 (ipykernel)",
   "language": "python",
   "name": "python3"
  },
  "language_info": {
   "codemirror_mode": {
    "name": "ipython",
    "version": 3
   },
   "file_extension": ".py",
   "mimetype": "text/x-python",
   "name": "python",
   "nbconvert_exporter": "python",
   "pygments_lexer": "ipython3",
   "version": "3.11.5"
  }
 },
 "nbformat": 4,
 "nbformat_minor": 4
}
